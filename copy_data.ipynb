{
 "cells": [
  {
   "cell_type": "code",
   "execution_count": 1,
   "metadata": {
    "collapsed": true
   },
   "outputs": [],
   "source": [
    "import sys\n",
    "import csv\n",
    "from shutil import copyfile\n",
    "import glob"
   ]
  },
  {
   "cell_type": "code",
   "execution_count": 2,
   "metadata": {
    "collapsed": false
   },
   "outputs": [
    {
     "name": "stdout",
     "output_type": "stream",
     "text": [
      "Copy files from ./data_final/ to ./data_all/\n"
     ]
    }
   ],
   "source": [
    "org_folder = './data_all/'\n",
    "dest_folder = './data_final/'\n",
    "print('Copy files from', org_folder, 'to', dest_folder)"
   ]
  },
  {
   "cell_type": "code",
   "execution_count": 3,
   "metadata": {
    "collapsed": true
   },
   "outputs": [],
   "source": [
    "# collect list of files in dest dir\n",
    "# Here we assume that files have always been successfully copied in threes: center, left, right\n",
    "data_files = glob.glob(dest_folder + 'IMG/center*')\n",
    "existing_files =[]\n",
    "for f in data_files:\n",
    "    existing_files.append(f.split('/')[-1].strip())"
   ]
  },
  {
   "cell_type": "code",
   "execution_count": 4,
   "metadata": {
    "collapsed": false
   },
   "outputs": [
    {
     "ename": "FileNotFoundError",
     "evalue": "[Errno 2] No such file or directory: '././data_final/driving_log.csv'",
     "output_type": "error",
     "traceback": [
      "\u001b[0;31m---------------------------------------------------------------------------\u001b[0m",
      "\u001b[0;31mFileNotFoundError\u001b[0m                         Traceback (most recent call last)",
      "\u001b[0;32m<ipython-input-4-fb610a2136bc>\u001b[0m in \u001b[0;36m<module>\u001b[0;34m()\u001b[0m\n\u001b[1;32m      3\u001b[0m \u001b[0mf_present\u001b[0m \u001b[0;34m=\u001b[0m \u001b[0;36m0\u001b[0m\u001b[0;34m\u001b[0m\u001b[0m\n\u001b[1;32m      4\u001b[0m \u001b[0mf_missed\u001b[0m \u001b[0;34m=\u001b[0m \u001b[0;36m0\u001b[0m\u001b[0;34m\u001b[0m\u001b[0m\n\u001b[0;32m----> 5\u001b[0;31m \u001b[0;32mwith\u001b[0m \u001b[0mopen\u001b[0m\u001b[0;34m(\u001b[0m\u001b[0;34m'./'\u001b[0m \u001b[0;34m+\u001b[0m \u001b[0morg_folder\u001b[0m \u001b[0;34m+\u001b[0m \u001b[0;34m'driving_log.csv'\u001b[0m\u001b[0;34m)\u001b[0m \u001b[0;32mas\u001b[0m \u001b[0mcsv_file\u001b[0m\u001b[0;34m:\u001b[0m\u001b[0;34m\u001b[0m\u001b[0m\n\u001b[0m\u001b[1;32m      6\u001b[0m     \u001b[0mreader\u001b[0m \u001b[0;34m=\u001b[0m \u001b[0mcsv\u001b[0m\u001b[0;34m.\u001b[0m\u001b[0mreader\u001b[0m\u001b[0;34m(\u001b[0m\u001b[0mcsv_file\u001b[0m\u001b[0;34m)\u001b[0m\u001b[0;34m\u001b[0m\u001b[0m\n\u001b[1;32m      7\u001b[0m     \u001b[0;32mfor\u001b[0m \u001b[0mline\u001b[0m \u001b[0;32min\u001b[0m \u001b[0mreader\u001b[0m\u001b[0;34m:\u001b[0m\u001b[0;34m\u001b[0m\u001b[0m\n",
      "\u001b[0;31mFileNotFoundError\u001b[0m: [Errno 2] No such file or directory: '././data_final/driving_log.csv'"
     ]
    }
   ],
   "source": [
    "# collect list of files to be copied. Again, using center image as reference\n",
    "read_lines = []\n",
    "f_present = 0\n",
    "f_missed = 0\n",
    "with open('./' + org_folder + 'driving_log.csv') as csv_file:\n",
    "    reader = csv.reader(csv_file)\n",
    "    for line in reader:\n",
    "        # check header\n",
    "        if line[0] == 'center':\n",
    "            continue\n",
    "        check_file = line[0].split('/')[-1]\n",
    "        if check_file not in existing_files:\n",
    "            read_lines.append(line)\n",
    "            f_missed += 1\n",
    "        else:\n",
    "            f_present += 1\n",
    "\n",
    "print('Found {:d} files already present and added {:d} new files'.format(f_present, f_missed))"
   ]
  },
  {
   "cell_type": "code",
   "execution_count": 23,
   "metadata": {
    "collapsed": true
   },
   "outputs": [],
   "source": [
    "def strip_folder(line):\n",
    "    # Helper function to strip machine/user specific data\n",
    "    corrected = [('IMG/' + x.split('/')[-1].strip()) for x in line[0:3]]\n",
    "    corrected += line[3:]\n",
    "    return corrected"
   ]
  },
  {
   "cell_type": "code",
   "execution_count": 24,
   "metadata": {
    "collapsed": false
   },
   "outputs": [],
   "source": [
    "with open('./' + dest_folder + '/driving_log.csv', 'a') as csv_file:\n",
    "    for line in read_lines:\n",
    "        if line:\n",
    "            correct = strip_folder(line)\n",
    "            # copy relevant files\n",
    "            center_file, left_file, right_file = correct[0:3]\n",
    "            copyfile(org_folder + center_file, dest_folder + center_file)\n",
    "            copyfile(org_folder + left_file, dest_folder + left_file)\n",
    "            copyfile(org_folder + right_file, dest_folder + right_file)\n",
    "            csv_file.write(','.join(correct) + '\\n')"
   ]
  },
  {
   "cell_type": "code",
   "execution_count": null,
   "metadata": {
    "collapsed": true
   },
   "outputs": [],
   "source": []
  }
 ],
 "metadata": {
  "anaconda-cloud": {},
  "kernelspec": {
   "display_name": "Python [conda env:IntroToTensorFlow]",
   "language": "python",
   "name": "conda-env-IntroToTensorFlow-py"
  },
  "language_info": {
   "codemirror_mode": {
    "name": "ipython",
    "version": 3
   },
   "file_extension": ".py",
   "mimetype": "text/x-python",
   "name": "python",
   "nbconvert_exporter": "python",
   "pygments_lexer": "ipython3",
   "version": "3.5.2"
  }
 },
 "nbformat": 4,
 "nbformat_minor": 2
}
