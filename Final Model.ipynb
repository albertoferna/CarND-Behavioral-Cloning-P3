{
 "cells": [
  {
   "cell_type": "code",
   "execution_count": 1,
   "metadata": {
    "collapsed": false
   },
   "outputs": [],
   "source": [
    "import numpy as np\n",
    "import csv\n",
    "import cv2\n",
    "import random\n",
    "import matplotlib.pylab as plt\n",
    "%matplotlib inline\n",
    "from data_adaptation import *"
   ]
  },
  {
   "cell_type": "code",
   "execution_count": 2,
   "metadata": {
    "collapsed": false
   },
   "outputs": [],
   "source": [
    "data_folder = '../CarND-Data-P3/data_all/'\n",
    "read_lines = []\n",
    "bins = 250\n",
    "samples_per_bin = 60\n",
    "\n",
    "with open(data_folder + 'driving_log.csv') as csv_file:\n",
    "    reader = csv.reader(csv_file)\n",
    "    for line in reader:\n",
    "        read_lines.append(line)\n",
    "lines = np.array(read_lines[1:])"
   ]
  },
  {
   "cell_type": "code",
   "execution_count": 3,
   "metadata": {
    "collapsed": false
   },
   "outputs": [
    {
     "name": "stdout",
     "output_type": "stream",
     "text": [
      "Total data lines from driving data:  31502\n",
      "That makes a total data points after augmentation:  189012\n"
     ]
    }
   ],
   "source": [
    "print('Total data lines from driving data: ', len(lines))\n",
    "print('That makes a total data points after augmentation: ', 6 * len(lines))"
   ]
  },
  {
   "cell_type": "code",
   "execution_count": 4,
   "metadata": {
    "collapsed": false
   },
   "outputs": [],
   "source": [
    "angles_list = []\n",
    "for line in lines:\n",
    "    angles_list.append(float(line[3].strip()))\n",
    "angles = np.array(angles_list)"
   ]
  },
  {
   "cell_type": "code",
   "execution_count": 5,
   "metadata": {
    "collapsed": false
   },
   "outputs": [
    {
     "data": {
      "text/plain": [
       "<a list of 250 Patch objects>"
      ]
     },
     "execution_count": 5,
     "metadata": {},
     "output_type": "execute_result"
    },
    {
     "data": {
      "image/png": "[encoded data removed]",
      "text/plain": [
       "<matplotlib.figure.Figure at 0x7f58198d3ef0>"
      ]
     },
     "metadata": {},
     "output_type": "display_data"
    }
   ],
   "source": [
    "hist_original = plt.hist(angles, bins = bins)\n",
    "hist_original[2]"
   ]
  },
  {
   "cell_type": "code",
   "execution_count": 6,
   "metadata": {
    "collapsed": false
   },
   "outputs": [],
   "source": [
    "used_samples = []\n",
    "# make use extremes are included\n",
    "hist_original[1][-1] += 0.0000001\n",
    "bin_start = min(angles)\n",
    "for bin_end in hist_original[1][1:]:\n",
    "    selectable = np.where(np.logical_and(angles >= bin_start, angles < bin_end))\n",
    "    samples_in_bin = len(angles[selectable])\n",
    "    if samples_in_bin > samples_per_bin:\n",
    "        idx = np.random.choice(samples_in_bin, samples_per_bin, replace=False)\n",
    "        select_from = lines[selectable]\n",
    "        used_samples.append(select_from[idx])\n",
    "    else:\n",
    "        used_samples.append((lines[selectable]))\n",
    "    bin_start = bin_end\n",
    "used_samples = np.concatenate(used_samples)"
   ]
  },
  {
   "cell_type": "code",
   "execution_count": 7,
   "metadata": {
    "collapsed": false
   },
   "outputs": [],
   "source": [
    "angles_list = []\n",
    "for line in used_samples:\n",
    "    angles_list.append(float(line[3].strip()))\n",
    "used_angles = np.array(angles_list)"
   ]
  },
  {
   "cell_type": "code",
   "execution_count": 8,
   "metadata": {
    "collapsed": false
   },
   "outputs": [
    {
     "data": {
      "text/plain": [
       "<a list of 250 Patch objects>"
      ]
     },
     "execution_count": 8,
     "metadata": {},
     "output_type": "execute_result"
    },
    {
     "data": {
      "image/png": "[encoded data removed]",
      "text/plain": [
       "<matplotlib.figure.Figure at 0x7f58102cfc18>"
      ]
     },
     "metadata": {},
     "output_type": "display_data"
    }
   ],
   "source": [
    "hist_mod = plt.hist(used_angles, bins = hist_original[1])\n",
    "hist_mod[2]"
   ]
  },
  {
   "cell_type": "code",
   "execution_count": 9,
   "metadata": {
    "collapsed": false
   },
   "outputs": [
    {
     "name": "stdout",
     "output_type": "stream",
     "text": [
      "Lines available after selection: 6319\n",
      "Samples available after selection: 37914\n"
     ]
    }
   ],
   "source": [
    "print('Lines available after selection:', len(used_samples))\n",
    "print('Samples available after selection:', len(used_samples) * 6)"
   ]
  },
  {
   "cell_type": "code",
   "execution_count": null,
   "metadata": {
    "collapsed": false
   },
   "outputs": [],
   "source": [
    "def generate_train_data(train_lines, data_folder, batch_size):\n",
    "    while 1:\n",
    "        x_out = []\n",
    "        y_out = []\n",
    "        # shuffle samples to use\n",
    "        #np.random.shuffle(train_lines)\n",
    "        for select_sample in range(batch_size):\n",
    "            # select a line\n",
    "            line = train_lines[ np.random.randint(0,len(train_lines))]\n",
    "            X_train, y_train = get_training_data([line], data_folder)\n",
    "            # select randomly from center, left, right or mirrored\n",
    "            s = np.random.randint(0,6)\n",
    "            x_out.append(X_train[s])\n",
    "            y_out.append(y_train[s])\n",
    "        X_train_batch = np.array(x_out)\n",
    "        y_train_batch = np.array(y_out)\n",
    "        yield X_train_batch, y_train_batch"
   ]
  },
  {
   "cell_type": "code",
   "execution_count": null,
   "metadata": {
    "collapsed": false
   },
   "outputs": [],
   "source": [
    "def generate_val_data(val_lines, data_folder):\n",
    "    while 1:\n",
    "        # shuffle samples to use\n",
    "        np.random.shuffle(val_lines)\n",
    "        for line in val_lines:\n",
    "            center_file = line[0].split('/')[-1]\n",
    "            center_image = cv2.imread(data_folder + 'IMG/' + center_file.strip())\n",
    "            angle = np.array([[float(line[3])]])\n",
    "            yield center_image[None, :, :, :], angle"
   ]
  },
  {
   "cell_type": "markdown",
   "metadata": {},
   "source": [
    "From here on I'm going to overtrain a model to check it."
   ]
  },
  {
   "cell_type": "code",
   "execution_count": null,
   "metadata": {
    "collapsed": false
   },
   "outputs": [],
   "source": [
    "from keras.models import Sequential\n",
    "from keras.layers import Dense, Dropout, Flatten, Lambda, ELU\n",
    "from keras.layers.convolutional import Convolution2D, Cropping2D\n",
    "from keras.callbacks import ModelCheckpoint\n",
    "from keras.regularizers import l2"
   ]
  },
  {
   "cell_type": "code",
   "execution_count": null,
   "metadata": {
    "collapsed": false
   },
   "outputs": [],
   "source": [
    "model = Sequential()\n",
    "model.add(Cropping2D(cropping=((55, 20), (0, 0)), input_shape=(160, 320, 3)))\n",
    "model.add(Lambda(lambda x: x/127.5 - 1., ))\n",
    "model.add(Convolution2D(16, (8, 8), strides=(4, 4), padding=\"same\", input_shape=(160, 320, 3)))\n",
    "model.add(ELU())\n",
    "model.add(Convolution2D(32, (5, 5), strides=(2, 2), padding=\"same\"))\n",
    "model.add(ELU())\n",
    "model.add(Convolution2D(64, (5, 5), strides=(2, 2), padding=\"same\"))\n",
    "model.add(Flatten())\n",
    "# I'm taking out mechanism to avoid overfitting, this time, overfit.\n",
    "#model.add(Dropout(.2))\n",
    "model.add(ELU())\n",
    "#model.add(Dense(512, kernel_initializer='glorot_normal', kernel_regularizer=l2(0.001)))\n",
    "model.add(Dense(512, kernel_initializer='glorot_normal'))\n",
    "#model.add(Dropout(.5))\n",
    "model.add(ELU())\n",
    "model.add(Dense(1))\n",
    "\n",
    "model.compile(optimizer=\"adam\", loss=\"mse\")\n",
    "#model.fit(X_train, y_train, batch_size=32, validation_split=0.3, shuffle=True, epochs=50, callbacks=[saving])"
   ]
  },
  {
   "cell_type": "code",
   "execution_count": null,
   "metadata": {
    "collapsed": false
   },
   "outputs": [],
   "source": [
    "np.random.shuffle(used_samples)\n",
    "val_lines = max(1 ,int(len(used_samples) * 0.3))\n",
    "validation = used_samples[:val_lines]\n",
    "training = used_samples[int(len(used_samples) * 0.3):]\n",
    "print('Size of training set lines:', len(training))\n",
    "print('size of validation set lines:', len(validation))"
   ]
  },
  {
   "cell_type": "code",
   "execution_count": null,
   "metadata": {
    "collapsed": false
   },
   "outputs": [],
   "source": [
    "print('Size of training set frames:', len(training) * 6)\n",
    "print('size of validation set frames:', len(validation))\n",
    "batch_size = min(2048, len(training) * 6)\n",
    "train_gen = generate_train_data(training, data_folder, batch_size) # minimum batch size is 1 line, equivalently 6 samples\n",
    "val_gen = generate_val_data(validation, data_folder)"
   ]
  },
  {
   "cell_type": "code",
   "execution_count": null,
   "metadata": {
    "collapsed": false,
    "scrolled": true
   },
   "outputs": [],
   "source": [
    "X_train, y_train = get_training_data(used_samples, data_folder)\n",
    "model.fit(X_train, y_train, batch_size=32, validation_split=0.3, shuffle=True, epochs=100, verbose=1)"
   ]
  },
  {
   "cell_type": "code",
   "execution_count": null,
   "metadata": {
    "collapsed": false
   },
   "outputs": [],
   "source": [
    "n = 3\n",
    "m = 2\n",
    "fig, ax = plt.subplots(n, m)\n",
    "for a, sample, angle in zip(ax.flatten(), X_train, y_train):\n",
    "    #img = cv2.imread(data_folder + sample[0].strip())\n",
    "    # Crop images to see what the classifiers sees\n",
    "    #a.imshow(toRGB(img[:, :, :]))\n",
    "    a.imshow(sample)\n",
    "    steer_estimate = model.predict(sample[None,:,:,:], batch_size=1)[0][0]\n",
    "    a.set_title('Steer angle: ' + str(angle) + '\\n' + 'Estimated angle: ' + str(steer_estimate) + '\\n' +\n",
    "                'error: ' + str(abs(angle - steer_estimate)))\n",
    "fig.set_size_inches(10,8)\n",
    "fig.tight_layout()"
   ]
  },
  {
   "cell_type": "code",
   "execution_count": null,
   "metadata": {
    "collapsed": false
   },
   "outputs": [],
   "source": [
    "np.random.randint(0,6)"
   ]
  },
  {
   "cell_type": "code",
   "execution_count": null,
   "metadata": {
    "collapsed": false,
    "scrolled": true
   },
   "outputs": [],
   "source": [
    "total_samples = len(training) * 6\n",
    "steps_epoch = total_samples // batch_size  # uncomment this to loop through all samples in selected samples\n",
    "print('Proccesing', batch_size, 'frames on each batch')\n",
    "print('Proccesing ', steps_epoch, 'batches on each epoch')\n",
    "model.fit_generator(generator=train_gen, steps_per_epoch=steps_epoch, validation_data=val_gen,\n",
    "                    validation_steps=len(validation), epochs=100, verbose=1)\n",
    "model.save('commaai_overfit')"
   ]
  },
  {
   "cell_type": "code",
   "execution_count": null,
   "metadata": {
    "collapsed": true
   },
   "outputs": [],
   "source": []
  },
  {
   "cell_type": "code",
   "execution_count": null,
   "metadata": {
    "collapsed": false
   },
   "outputs": [],
   "source": [
    "n = 3\n",
    "m = 3\n",
    "fig, ax = plt.subplots(n, m)\n",
    "for a, sample in zip(ax.flatten(), training):\n",
    "    img = cv2.imread(data_folder + sample[0].strip())\n",
    "    # Crop images to see what the classifiers sees\n",
    "    a.imshow(toRGB(img[:, :, :]))\n",
    "    steer_estimate = model.predict(toRGB(img)[None,:,:,:], batch_size=1)[0][0]\n",
    "    a.set_title('Steer angle: ' + sample[3] + '\\n' + 'Estimated angle: ' + str(steer_estimate) + '\\n' +\n",
    "                'error: ' + str(abs(float(sample[3]) - steer_estimate)))\n",
    "fig.set_size_inches(10,8)\n",
    "fig.tight_layout()"
   ]
  }
 ],
 "metadata": {
  "anaconda-cloud": {},
  "kernelspec": {
   "display_name": "Python [conda env:IntroToTensorFlow]",
   "language": "python",
   "name": "conda-env-IntroToTensorFlow-py"
  },
  "language_info": {
   "codemirror_mode": {
    "name": "ipython",
    "version": 3
   },
   "file_extension": ".py",
   "mimetype": "text/x-python",
   "name": "python",
   "nbconvert_exporter": "python",
   "pygments_lexer": "ipython3",
   "version": "3.5.2"
  }
 },
 "nbformat": 4,
 "nbformat_minor": 2
}
